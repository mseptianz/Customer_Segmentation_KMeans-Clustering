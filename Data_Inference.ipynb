{
 "cells": [
  {
   "cell_type": "markdown",
   "metadata": {},
   "source": [
    "---\n",
    "Program ini dibuat untuk melakukan `clustering` inference data menggunakan model yang sebelumnya sudah dibuat dan disimpan.\n",
    "\n",
    "---"
   ]
  },
  {
   "cell_type": "markdown",
   "metadata": {},
   "source": [
    "# Import Libraries"
   ]
  },
  {
   "cell_type": "code",
   "execution_count": 1,
   "metadata": {},
   "outputs": [],
   "source": [
    "import pandas as pd \n",
    "import json\n",
    "import pickle"
   ]
  },
  {
   "cell_type": "markdown",
   "metadata": {},
   "source": [
    "# Load Data"
   ]
  },
  {
   "cell_type": "code",
   "execution_count": 2,
   "metadata": {},
   "outputs": [],
   "source": [
    "# Load Files\n",
    "with open('list_num_col.txt', 'r') as file_1:\n",
    "    num_cols = json.load(file_1)\n",
    "\n",
    "with open('scaler.pkl', 'rb') as file_2:\n",
    "    scaler = pickle.load(file_2)\n",
    "\n",
    "with open('pca.pkl', 'rb') as file_3:\n",
    "    pca = pickle.load(file_3)\n",
    "\n",
    "with open('kmeans.pkl', 'rb') as file_4:\n",
    "    kmeans = pickle.load(file_4)"
   ]
  },
  {
   "cell_type": "markdown",
   "metadata": {},
   "source": [
    "# Input New Data"
   ]
  },
  {
   "cell_type": "code",
   "execution_count": 3,
   "metadata": {},
   "outputs": [
    {
     "name": "stdout",
     "output_type": "stream",
     "text": [
      "Predicted Cluster: 1\n"
     ]
    }
   ],
   "source": [
    "# Sample data untuk inference\n",
    "new_data = pd.DataFrame({\n",
    "    'CUST_ID': [1140],\n",
    "    'BALANCE': [5000],\n",
    "    'PURCHASES': [3500],\n",
    "    'ONEOFF_PURCHASES': [2000],\n",
    "    'INSTALLMENTS_PURCHASES': [1500],\n",
    "    'CASH_ADVANCE': [500],\n",
    "    'CASH_ADVANCE_FREQUENCY': [0.2],\n",
    "    'CASH_ADVANCE_TRX': [3],\n",
    "    'PURCHASES_TRX': [20],\n",
    "    'CREDIT_LIMIT': [10000],\n",
    "    'PAYMENTS': [2000],\n",
    "    'MINIMUM_PAYMENTS': [1000],\n",
    "    'PRC_FULL_PAYMENT': [0.3],\n",
    "    'BALANCE_FREQUENCY': [0.9],\n",
    "    'PURCHASES_FREQUENCY': [1.0],\n",
    "    'ONEOFF_PURCHASES_FREQUENCY': [0.8],\n",
    "    'PURCHASES_INSTALLMENTS_FREQUENCY': [0.7],\n",
    "    'TENURE': [6]\n",
    "})\n",
    "\n",
    "# Preprocessing\n",
    "new_data_scaled = scaler.transform(new_data[num_cols])\n",
    "new_data_pca = pca.transform(new_data_scaled)\n",
    "\n",
    "# Predict Cluster\n",
    "cluster = kmeans.predict(new_data_pca)\n",
    "\n",
    "print(\"Predicted Cluster:\", cluster[0])"
   ]
  },
  {
   "cell_type": "markdown",
   "metadata": {},
   "source": [
    "Berdasarkan hasil inferensi model, data baru yang diinputkan diprediksi termasuk ke dalam cluster 0. \n",
    "\n",
    "Cluster 1: \"Pengguna Konservatif\"\n",
    "\n",
    "- Data baru yang diinputkan menunjukkan karakteristik sebagai Pengguna Konservatif dengan Saldo dan Limit Kredit Rendah\n",
    "Data pelanggan baru yang tergolong dalam cluster ini menunjukkan perilaku yang lebih berhati-hati dalam penggunaan kartu kredit. Pelanggan ini memiliki saldo rendah serta limit kredit yang tidak terlalu besar, mengindikasikan kecenderungan untuk menggunakan kredit dalam jumlah kecil.\n",
    "\n",
    "- Nilai yang relatif rendah pada fitur seperti jumlah transaksi dan frekuensi pembelian\n",
    "Hal ini menunjukkan bahwa pelanggan dalam cluster ini jarang melakukan transaksi besar dan lebih sedikit menggunakan kartu kredit mereka untuk pembelian rutin.\n",
    "\n",
    "- Mengindikasikan fokus pada pengelolaan risiko kredit\n",
    "Perilaku ini mencerminkan sikap konservatif terhadap pengelolaan finansial, yang berarti mereka cenderung menghindari utang besar dan lebih mengutamakan pembayaran tepat waktu.\n",
    "\n",
    "> Strategi Marketing yang Dapat Diterapkan\n",
    "Fokus pada memberikan edukasi dan layanan terkait pengelolaan keuangan, seperti program cicilan ringan atau restrukturisasi utang. Selain itu, tawarkan insentif seperti poin reward untuk transaksi kecil agar mendorong pelanggan ini lebih aktif menggunakan kartu kredit tanpa merasa terbebani. Program loyalitas sederhana juga dapat meningkatkan engagement pelanggan dalam cluster ini.\n",
    "\n"
   ]
  }
 ],
 "metadata": {
  "kernelspec": {
   "display_name": "base",
   "language": "python",
   "name": "python3"
  },
  "language_info": {
   "codemirror_mode": {
    "name": "ipython",
    "version": 3
   },
   "file_extension": ".py",
   "mimetype": "text/x-python",
   "name": "python",
   "nbconvert_exporter": "python",
   "pygments_lexer": "ipython3",
   "version": "3.12.4"
  }
 },
 "nbformat": 4,
 "nbformat_minor": 2
}
